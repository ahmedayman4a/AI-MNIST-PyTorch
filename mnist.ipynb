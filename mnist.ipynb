{
 "cells": [
  {
   "cell_type": "code",
   "execution_count": 25,
   "metadata": {},
   "outputs": [],
   "source": [
    "import torch\n",
    "import numpy as np\n",
    "import pandas as pd\n",
    "from PIL import Image\n",
    "import codecs\n",
    "import matplotlib.pyplot as plt\n",
    "import math"
   ]
  },
  {
   "cell_type": "code",
   "execution_count": 26,
   "metadata": {},
   "outputs": [
    {
     "name": "stdout",
     "output_type": "stream",
     "text": [
      "Warning: Looks like you're using an outdated `kagglehub` version, please consider updating (latest version: 0.3.6)\n",
      "Path to dataset files: /home/ahmedayman4a/.cache/kagglehub/datasets/hojjatk/mnist-dataset/versions/1\n"
     ]
    },
    {
     "data": {
      "text/plain": [
       "'dataset'"
      ]
     },
     "execution_count": 26,
     "metadata": {},
     "output_type": "execute_result"
    }
   ],
   "source": [
    "import kagglehub\n",
    "\n",
    "# Download latest version\n",
    "path = kagglehub.dataset_download(\"hojjatk/mnist-dataset\")\n",
    "\n",
    "print(\"Path to dataset files:\", path)\n",
    "\n",
    "# copy the downloaded dataset to the current directory\n",
    "import shutil\n",
    "shutil.copytree(path, \"dataset\", dirs_exist_ok=True)\n"
   ]
  },
  {
   "cell_type": "code",
   "execution_count": 27,
   "metadata": {},
   "outputs": [],
   "source": [
    "def get_int(b):\n",
    "    return int(codecs.encode(b, 'hex'), 16)\n",
    "\n",
    "def read_label_file(path):\n",
    "    with open(path, 'rb') as f:\n",
    "        data = f.read()\n",
    "        assert get_int(data[:4]) == 2049\n",
    "        length = get_int(data[4:8])\n",
    "        parsed = np.frombuffer(data, dtype=np.uint8, offset=8)\n",
    "        return np.array(parsed, dtype=np.uint8).reshape(length)\n",
    "\n",
    "\n",
    "def read_image_file(path):\n",
    "    with open(path, 'rb') as f:\n",
    "        data = f.read()\n",
    "        assert get_int(data[:4]) == 2051\n",
    "        length = get_int(data[4:8])\n",
    "        num_rows = get_int(data[8:12])\n",
    "        num_cols = get_int(data[12:16])\n",
    "        parsed = np.frombuffer(data, dtype=np.uint8, offset=16)\n",
    "        return np.array(parsed, dtype=np.uint8).reshape((length,num_rows,num_cols))"
   ]
  },
  {
   "cell_type": "code",
   "execution_count": 28,
   "metadata": {},
   "outputs": [
    {
     "name": "stdout",
     "output_type": "stream",
     "text": [
      "(60000, 28, 28) (60000,)\n"
     ]
    }
   ],
   "source": [
    "train_images = read_image_file('dataset/train-images.idx3-ubyte')\n",
    "train_labels = read_label_file('dataset/train-labels.idx1-ubyte')\n",
    "test_images = read_image_file('dataset/t10k-images.idx3-ubyte')\n",
    "test_labels = read_label_file('dataset/t10k-labels.idx1-ubyte')\n",
    "\n",
    "print(train_images.shape, train_labels.shape)"
   ]
  },
  {
   "cell_type": "code",
   "execution_count": 29,
   "metadata": {},
   "outputs": [],
   "source": [
    "# concat train and test\n",
    "images = np.concatenate([train_images, test_images])\n",
    "labels = np.concatenate([train_labels, test_labels])"
   ]
  },
  {
   "cell_type": "code",
   "execution_count": 30,
   "metadata": {},
   "outputs": [],
   "source": [
    "from sklearn.model_selection import train_test_split\n",
    "train_test_images, val_images, train_test_labels, val_labels = train_test_split(images, labels, test_size=0.2, random_state=42)\n",
    "train_images, test_images, train_labels, test_labels = train_test_split(train_test_images, train_test_labels, test_size=0.2, random_state=42)"
   ]
  },
  {
   "cell_type": "code",
   "execution_count": 31,
   "metadata": {},
   "outputs": [
    {
     "name": "stdout",
     "output_type": "stream",
     "text": [
      "(44800, 28, 28) (44800,)\n"
     ]
    }
   ],
   "source": [
    "print(train_images.shape, train_labels.shape)"
   ]
  },
  {
   "cell_type": "code",
   "execution_count": 32,
   "metadata": {},
   "outputs": [],
   "source": [
    "from torch.utils.data import DataLoader, Dataset\n",
    "from torchvision.transforms import Compose, ToTensor, Normalize"
   ]
  },
  {
   "cell_type": "code",
   "execution_count": 33,
   "metadata": {},
   "outputs": [],
   "source": [
    "class MNISTDataset(Dataset):\n",
    "    def __init__(self, images, labels, image_transform:Compose = None):\n",
    "        self.images = images\n",
    "        self.labels = labels\n",
    "        self.image_transform = image_transform\n",
    "\n",
    "    def __getitem__(self, index: int):\n",
    "        image, label = self.images[index], self.labels[index]\n",
    "        image = Image.fromarray(image, mode='L')\n",
    "        if self.image_transform is not None:\n",
    "            image = self.image_transform(image)\n",
    "            \n",
    "        return image, label\n",
    "        \n",
    "    def __len__(self):\n",
    "        return len(self.images)"
   ]
  },
  {
   "cell_type": "code",
   "execution_count": 34,
   "metadata": {},
   "outputs": [],
   "source": [
    "image_transform = Compose([\n",
    "    ToTensor(),\n",
    "    Normalize((0.1307,), (0.3081,))\n",
    "])"
   ]
  },
  {
   "cell_type": "code",
   "execution_count": 35,
   "metadata": {},
   "outputs": [],
   "source": [
    "train_dataset = MNISTDataset(train_images, train_labels, image_transform)\n",
    "val_dataset = MNISTDataset(val_images, val_labels, image_transform)\n",
    "test_dataset = MNISTDataset(test_images, test_labels, image_transform)"
   ]
  },
  {
   "cell_type": "code",
   "execution_count": 36,
   "metadata": {},
   "outputs": [],
   "source": [
    "train_loader = DataLoader(train_dataset, batch_size=64, num_workers=8, prefetch_factor=8, shuffle=True)\n",
    "val_loader = DataLoader(val_dataset, batch_size=64, num_workers=8, prefetch_factor=8)\n",
    "test_loader = DataLoader(test_dataset, batch_size=64, num_workers=8, prefetch_factor=8)"
   ]
  },
  {
   "cell_type": "code",
   "execution_count": 37,
   "metadata": {},
   "outputs": [],
   "source": [
    "def visualize_batch(loader):\n",
    "    batch_images, batch_labels = next(iter(loader))\n",
    "    print(batch_images.size(), batch_labels.size())\n",
    "    batch_size = batch_images.size(0)\n",
    "    cols = math.ceil(math.sqrt(batch_size))\n",
    "    rows = math.ceil(batch_size / cols)\n",
    "    # Create a grid of images\n",
    "    fig, axes = plt.subplots(rows, cols, figsize=(10, 10))\n",
    "    for i, (image, label) in enumerate(zip(batch_images, batch_labels)):\n",
    "        ax = axes[i//rows, i%cols]\n",
    "        # Convert tensor back to image for display\n",
    "        ax.imshow(image.squeeze(), cmap='gray')\n",
    "        ax.axis('off')\n",
    "        ax.set_title(f'Label: {label.item()}')\n",
    "    plt.tight_layout()\n",
    "    plt.show()"
   ]
  },
  {
   "cell_type": "code",
   "execution_count": 38,
   "metadata": {},
   "outputs": [
    {
     "name": "stdout",
     "output_type": "stream",
     "text": [
      "torch.Size([64, 1, 28, 28]) torch.Size([64])\n"
     ]
    },
    {
     "data": {
      "image/png": "[encoded data removed]",
      "text/plain": [
       "<Figure size 1000x1000 with 64 Axes>"
      ]
     },
     "metadata": {},
     "output_type": "display_data"
    }
   ],
   "source": [
    "visualize_batch(test_loader)"
   ]
  },
  {
   "cell_type": "markdown",
   "metadata": {},
   "source": [
    "# Softmax Regression Model"
   ]
  },
  {
   "cell_type": "code",
   "execution_count": 39,
   "metadata": {},
   "outputs": [],
   "source": [
    "from dataclasses import dataclass\n",
    "from typing import Optional\n",
    "import torch\n",
    "\n",
    "@dataclass\n",
    "class TrainingConfig:\n",
    "    # Model parameters\n",
    "    input_size: int = 28 * 28\n",
    "    output_size: int = 10\n",
    "    \n",
    "    # Training parameters\n",
    "    batch_size: int = 64\n",
    "    num_epochs: int = 10\n",
    "    learning_rate: float = 0.01\n",
    "    weight_decay: float = 0.0\n",
    "    \n",
    "    # LR scheduler parameters\n",
    "    scheduler_type: str = \"none\"  # \"none\", \"cosine\", \"warmup_cosine\"\n",
    "    warmup_epochs: int = 0\n",
    "    min_lr: float = 1e-5\n",
    "    \n",
    "    # Regularization\n",
    "    dropout_rate: float = 0.0\n",
    "    \n",
    "    # DataLoader parameters\n",
    "    num_workers: int = 8\n",
    "    prefetch_factor: int = 8\n",
    "    \n",
    "    # Device\n",
    "    device: str = \"cuda\" if torch.cuda.is_available() else \"cpu\"\n",
    "    \n",
    "    # Experiment name\n",
    "    experiment_name: str = \"mnist_softmax\"\n",
    "    \n",
    "    project_name: str = \"mnist-softmax-2\""
   ]
  },
  {
   "cell_type": "code",
   "execution_count": 40,
   "metadata": {},
   "outputs": [],
   "source": [
    "class SoftmaxRegression(torch.nn.Module):\n",
    "    def __init__(self, input_size, output_size, dropout_rate=0.0):\n",
    "        super(SoftmaxRegression, self).__init__()\n",
    "        self.input_size = input_size\n",
    "        self.output_size = output_size\n",
    "        self.dropout = torch.nn.Dropout(dropout_rate)\n",
    "        self.linear = torch.nn.Linear(input_size, output_size)\n",
    "\n",
    "    def forward(self, x):\n",
    "        x = x.view(-1, self.input_size) # remove the channel dimension, flatten the image\n",
    "        x = self.dropout(x)\n",
    "        return self.linear(x)"
   ]
  },
  {
   "cell_type": "code",
   "execution_count": 41,
   "metadata": {},
   "outputs": [],
   "source": [
    "from torch.nn import CrossEntropyLoss\n",
    "import torch.nn.functional as F\n",
    "import torch.optim as optim\n",
    "from torch.optim.lr_scheduler import LinearLR, CosineAnnealingLR, SequentialLR\n",
    "from tqdm import tqdm\n",
    "from tabulate import tabulate\n",
    "import wandb"
   ]
  },
  {
   "cell_type": "code",
   "execution_count": 42,
   "metadata": {},
   "outputs": [
    {
     "name": "stderr",
     "output_type": "stream",
     "text": [
      "\u001b[34m\u001b[1mwandb\u001b[0m: \u001b[33mWARNING\u001b[0m If you're specifying your api key in code, ensure this code is not shared publicly.\n",
      "\u001b[34m\u001b[1mwandb\u001b[0m: \u001b[33mWARNING\u001b[0m Consider setting the WANDB_API_KEY environment variable, or running `wandb login` from the command line.\n",
      "\u001b[34m\u001b[1mwandb\u001b[0m: Appending key for api.wandb.ai to your netrc file: /home/ahmedayman4a/.netrc\n"
     ]
    },
    {
     "data": {
      "text/plain": [
       "True"
      ]
     },
     "execution_count": 42,
     "metadata": {},
     "output_type": "execute_result"
    }
   ],
   "source": [
    "wandb.login(key=\"d8ff0fac98c036a4ac0587814c4fd1a2e60f2512\")"
   ]
  },
  {
   "cell_type": "code",
   "execution_count": 65,
   "metadata": {},
   "outputs": [],
   "source": [
    "import wandb\n",
    "import torch\n",
    "import seaborn as sns\n",
    "import matplotlib.pyplot as plt\n",
    "from sklearn.metrics import confusion_matrix\n",
    "\n",
    "class WandBLogger:\n",
    "    def __init__(self, config):\n",
    "        self.run = wandb.init(\n",
    "            project=config.project_name,\n",
    "            name=config.experiment_name,\n",
    "            config=config.__dict__\n",
    "        )\n",
    "        \n",
    "    def log_model_graph(self, model, loss):\n",
    "        wandb.watch(model, criterion=loss, log=\"all\", log_freq=100)\n",
    "        \n",
    "    def log_batch_predictions(self, images, labels, predictions, step):\n",
    "        # Log sample predictions\n",
    "        fig, ax = plt.subplots(4, 4, figsize=(10, 10))\n",
    "        for idx in range(16):\n",
    "            i, j = idx//4, idx%4\n",
    "            ax[i,j].imshow(images[idx].squeeze(), cmap='gray')\n",
    "            ax[i,j].set_title(f'Pred: {predictions[idx]}\\nTrue: {labels[idx]}')\n",
    "            ax[i,j].axis('off')\n",
    "        wandb.log({\"predictions\": wandb.Image(fig)}, commit=False)\n",
    "        plt.close()\n",
    "        \n",
    "    def log_confusion_matrix(self, true_labels, predictions, step):\n",
    "        cm = confusion_matrix(true_labels, predictions)\n",
    "        fig = plt.figure(figsize=(10, 10))\n",
    "        sns.heatmap(cm, annot=True, fmt='d')\n",
    "        wandb.log({\"confusion_matrix\": wandb.Image(fig)}, commit=False)\n",
    "        plt.close()\n",
    "        \n",
    "    def log_grad_flow(self, named_parameters):\n",
    "        ave_grads = []\n",
    "        layers = []\n",
    "        for n, p in named_parameters:\n",
    "            if p.requires_grad and p.grad is not None:\n",
    "                layers.append(n)\n",
    "                ave_grads.append(p.grad.abs().mean().item())\n",
    "        fig = plt.figure(figsize=(10, 5))\n",
    "        plt.plot(ave_grads, alpha=0.3, color=\"b\")\n",
    "        plt.title(\"Gradient Flow\")\n",
    "        wandb.log({\"grad_flow\": wandb.Image(fig)}, commit=False)\n",
    "        plt.close()\n",
    "        \n",
    "    def log_misclassified(self, images, labels, predictions, step):\n",
    "        mask = predictions != labels\n",
    "        if not mask.any():\n",
    "            return\n",
    "            \n",
    "        misclassified_images = images[mask][:16]\n",
    "        misclassified_labels = labels[mask][:16]\n",
    "        misclassified_preds = predictions[mask][:16]\n",
    "        \n",
    "        fig, ax = plt.subplots(4, 4, figsize=(10, 10))\n",
    "        for idx in range(min(16, len(misclassified_images))):\n",
    "            i, j = idx//4, idx%4\n",
    "            ax[i,j].imshow(misclassified_images[idx].squeeze(), cmap='gray')\n",
    "            ax[i,j].set_title(f'Pred: {misclassified_preds[idx]}\\nTrue: {misclassified_labels[idx]}')\n",
    "            ax[i,j].axis('off')\n",
    "        wandb.log({\"misclassified\": wandb.Image(fig)}, commit=False)\n",
    "        plt.close()"
   ]
  },
  {
   "cell_type": "code",
   "execution_count": 66,
   "metadata": {},
   "outputs": [],
   "source": [
    "class TrainingManager:\n",
    "    def __init__(self, config: TrainingConfig):\n",
    "        self.config = config\n",
    "        self.logger = WandBLogger(config)\n",
    "        \n",
    "    def get_scheduler(self, optimizer):\n",
    "        if self.config.scheduler_type == \"none\":\n",
    "            return None\n",
    "        elif self.config.scheduler_type == \"cosine\":\n",
    "            return torch.optim.lr_scheduler.CosineAnnealingLR(\n",
    "                optimizer, \n",
    "                T_max=self.config.num_epochs, \n",
    "                eta_min=self.config.min_lr\n",
    "            )\n",
    "        elif self.config.scheduler_type == \"warmup_cosine\":\n",
    "            warmup_scheduler = LinearLR(optimizer, total_iters=self.config.warmup_epochs)\n",
    "            main_scheduler = CosineAnnealingLR(optimizer, T_max=self.config.num_epochs - self.config.warmup_epochs, eta_min=self.config.min_lr)\n",
    "            scheduler = SequentialLR(optimizer, schedulers=[warmup_scheduler, main_scheduler], milestones=[self.config.warmup_epochs])\n",
    "            return scheduler\n",
    "    \n",
    "    def train(self, model, train_loader, val_loader):\n",
    "        model = model.to(self.config.device)\n",
    "        optimizer = torch.optim.SGD(\n",
    "            model.parameters(), \n",
    "            lr=self.config.learning_rate,\n",
    "            weight_decay=self.config.weight_decay\n",
    "        )\n",
    "        scheduler = self.get_scheduler(optimizer)\n",
    "        criterion = torch.nn.CrossEntropyLoss()\n",
    "        self.logger.log_model_graph(model, criterion)\n",
    "        \n",
    "        for epoch in range(self.config.num_epochs):\n",
    "            # Training\n",
    "            model.train()\n",
    "            train_loss = 0\n",
    "            correct = 0\n",
    "            total = 0\n",
    "            \n",
    "            for batch_idx, (inputs, targets) in enumerate(train_loader):\n",
    "                inputs, targets = inputs.to(self.config.device), targets.to(self.config.device)\n",
    "                \n",
    "                optimizer.zero_grad()\n",
    "                outputs = model(inputs)\n",
    "                loss = criterion(outputs, targets)\n",
    "                loss.backward()\n",
    "                optimizer.step()\n",
    "                \n",
    "                train_loss += loss.item()\n",
    "                _, predicted = outputs.max(1)\n",
    "                total += targets.size(0)\n",
    "                correct += predicted.eq(targets).sum().item()\n",
    "                \n",
    "            train_acc = 100. * correct / total\n",
    "            train_loss = train_loss / len(train_loader)\n",
    "            \n",
    "            # Validation\n",
    "            val_loss, val_acc = self.validate(model, val_loader, criterion, epoch)\n",
    "            \n",
    "            # Update scheduler\n",
    "            if scheduler is not None:\n",
    "                scheduler.step()\n",
    "                \n",
    "            # Log metrics\n",
    "            wandb.log({\n",
    "                \"epoch\": epoch,\n",
    "                \"train_loss\": train_loss,\n",
    "                \"train_acc\": train_acc,\n",
    "                \"val_loss\": val_loss,\n",
    "                \"val_acc\": val_acc,\n",
    "                \"learning_rate\": optimizer.param_groups[0]['lr'],\n",
    "                \"parameter_histograms\": wandb.Histogram(\n",
    "                    torch.cat([p.data.cpu().flatten() for p in model.parameters()])\n",
    "                )\n",
    "            })\n",
    "            \n",
    "        wandb.finish()\n",
    "        \n",
    "    def validate(self, model, val_loader, criterion, epoch):\n",
    "        model.eval()\n",
    "        val_loss = 0\n",
    "        correct = 0\n",
    "        total = 0\n",
    "        val_images, val_labels = [], []\n",
    "        val_preds = []\n",
    "        \n",
    "        with torch.no_grad():\n",
    "            for inputs, targets in val_loader:\n",
    "                inputs, targets = inputs.to(self.config.device), targets.to(self.config.device)\n",
    "                preds = model(inputs)\n",
    "                loss = criterion(preds, targets)\n",
    "                \n",
    "                val_loss += loss.item()\n",
    "                _, predicted = preds.max(1)\n",
    "                total += targets.size(0)\n",
    "                correct += predicted.eq(targets).sum().item()\n",
    "                predictions = preds.argmax(dim=1)\n",
    "                val_images.extend(inputs.cpu())\n",
    "                val_labels.extend(targets.cpu())\n",
    "                val_preds.extend(predictions.cpu())\n",
    "                \n",
    "        val_images = torch.stack(val_images)\n",
    "        val_labels = torch.tensor(val_labels)\n",
    "        val_preds = torch.tensor(val_preds)\n",
    "        \n",
    "        # Log validation artifacts\n",
    "        self.logger.log_batch_predictions(\n",
    "            val_images[:16], \n",
    "            val_labels[:16], \n",
    "            val_preds[:16], \n",
    "            epoch\n",
    "        )\n",
    "        self.logger.log_confusion_matrix(\n",
    "            val_labels, \n",
    "            val_preds, \n",
    "            epoch\n",
    "        )\n",
    "        self.logger.log_misclassified(\n",
    "            val_images,\n",
    "            val_labels, \n",
    "            val_preds,\n",
    "            epoch\n",
    "        )\n",
    "        self.logger.log_grad_flow(model.named_parameters())\n",
    "            \n",
    "        return val_loss / len(val_loader), 100. * correct / total"
   ]
  },
  {
   "cell_type": "code",
   "execution_count": 67,
   "metadata": {},
   "outputs": [],
   "source": [
    "experiments = [\n",
    "    TrainingConfig(learning_rate=1.0, experiment_name=\"lr_1.0\"),\n",
    "    TrainingConfig(learning_rate=0.01, experiment_name=\"lr_0.01\"),\n",
    "    TrainingConfig(learning_rate=0.00001, experiment_name=\"lr_0.00001\"),\n",
    "    TrainingConfig(\n",
    "        learning_rate=0.01, \n",
    "        scheduler_type=\"warmup_cosine\",\n",
    "        warmup_epochs=5,\n",
    "        experiment_name=\"warmup_cosine\"\n",
    "    ),\n",
    "    TrainingConfig(batch_size=1, experiment_name=\"batch_1\"),\n",
    "    TrainingConfig(batch_size=16, experiment_name=\"batch_16\"),\n",
    "    TrainingConfig(batch_size=256, experiment_name=\"batch_256\"),\n",
    "    TrainingConfig(\n",
    "        learning_rate=0.01,\n",
    "        weight_decay=0.01,\n",
    "        dropout_rate=0.2,\n",
    "        experiment_name=\"with_regularization\"\n",
    "    ),\n",
    "]"
   ]
  },
  {
   "cell_type": "code",
   "execution_count": 68,
   "metadata": {},
   "outputs": [],
   "source": [
    "def run_experiments():\n",
    "    for config in experiments:\n",
    "        print(f\"Running experiment: {config.experiment_name}\")\n",
    "        \n",
    "        # Create data loaders\n",
    "        train_loader = DataLoader(\n",
    "            train_dataset, \n",
    "            batch_size=config.batch_size,\n",
    "            num_workers=config.num_workers,\n",
    "            prefetch_factor=config.prefetch_factor,\n",
    "            shuffle=True\n",
    "        )\n",
    "        val_loader = DataLoader(\n",
    "            val_dataset,\n",
    "            batch_size=config.batch_size,\n",
    "            num_workers=config.num_workers,\n",
    "            prefetch_factor=config.prefetch_factor\n",
    "        )\n",
    "        \n",
    "        # Create model and trainer\n",
    "        model = SoftmaxRegression(config.input_size, config.output_size, config.dropout_rate)\n",
    "        trainer = TrainingManager(config)\n",
    "        \n",
    "        # Train model\n",
    "        trainer.train(model, train_loader, val_loader)\n"
   ]
  },
  {
   "cell_type": "code",
   "execution_count": 69,
   "metadata": {},
   "outputs": [
    {
     "name": "stdout",
     "output_type": "stream",
     "text": [
      "Running experiment: lr_1.0\n"
     ]
    },
    {
     "data": {
      "text/html": [],
      "text/plain": [
       "<IPython.core.display.HTML object>"
      ]
     },
     "metadata": {},
     "output_type": "display_data"
    },
    {
     "data": {
      "text/html": [
       "<br>    <style><br>        .wandb-row {<br>            display: flex;<br>            flex-direction: row;<br>            flex-wrap: wrap;<br>            justify-content: flex-start;<br>            width: 100%;<br>        }<br>        .wandb-col {<br>            display: flex;<br>            flex-direction: column;<br>            flex-basis: 100%;<br>            flex: 1;<br>            padding: 10px;<br>        }<br>    </style><br><div class=\"wandb-row\"><div class=\"wandb-col\"><h3>Run history:</h3><br/><table class=\"wandb\"><tr><td>epoch</td><td>▁▂▃▃▄▅▆▆▇█</td></tr><tr><td>learning_rate</td><td>▁▁▁▁▁▁▁▁▁█</td></tr><tr><td>train_acc</td><td>▁▆▆▇▇████▄</td></tr><tr><td>train_loss</td><td>▂▁▁▁▁▁▁▁▁█</td></tr><tr><td>val_acc</td><td>▄▆▆▇▇████▁</td></tr><tr><td>val_loss</td><td>▁▁▁▁▁▁▁▁▁█</td></tr></table><br/></div><div class=\"wandb-col\"><h3>Run summary:</h3><br/><table class=\"wandb\"><tr><td>epoch</td><td>9</td></tr><tr><td>learning_rate</td><td>1</td></tr><tr><td>train_acc</td><td>89.07812</td></tr><tr><td>train_loss</td><td>1.48446</td></tr><tr><td>val_acc</td><td>88.62143</td></tr><tr><td>val_loss</td><td>1.6928</td></tr></table><br/></div></div>"
      ],
      "text/plain": [
       "<IPython.core.display.HTML object>"
      ]
     },
     "metadata": {},
     "output_type": "display_data"
    },
    {
     "data": {
      "text/html": [
       " View run <strong style=\"color:#cdcd00\">lr_0.01</strong> at: <a href='https://wandb.ai/madeinalex/mnist-softmax-2/runs/q6e8yj4y' target=\"_blank\">https://wandb.ai/madeinalex/mnist-softmax-2/runs/q6e8yj4y</a><br> View project at: <a href='https://wandb.ai/madeinalex/mnist-softmax-2' target=\"_blank\">https://wandb.ai/madeinalex/mnist-softmax-2</a><br>Synced 5 W&B file(s), 0 media file(s), 0 artifact file(s) and 74 other file(s)"
      ],
      "text/plain": [
       "<IPython.core.display.HTML object>"
      ]
     },
     "metadata": {},
     "output_type": "display_data"
    },
    {
     "data": {
      "text/html": [
       "Find logs at: <code>./wandb/run-20241228_232254-q6e8yj4y/logs</code>"
      ],
      "text/plain": [
       "<IPython.core.display.HTML object>"
      ]
     },
     "metadata": {},
     "output_type": "display_data"
    },
    {
     "name": "stdout",
     "output_type": "stream",
     "text": [
      "Running experiment: lr_0.01\n"
     ]
    },
    {
     "data": {
      "text/html": [
       "Tracking run with wandb version 0.19.1"
      ],
      "text/plain": [
       "<IPython.core.display.HTML object>"
      ]
     },
     "metadata": {},
     "output_type": "display_data"
    },
    {
     "data": {
      "text/html": [
       "Run data is saved locally in <code>/home/ahmedayman4a/programming/DeepLearning/mnist-pytorch/wandb/run-20241228_233040-3pji9p5d</code>"
      ],
      "text/plain": [
       "<IPython.core.display.HTML object>"
      ]
     },
     "metadata": {},
     "output_type": "display_data"
    },
    {
     "data": {
      "text/html": [
       "Syncing run <strong><a href='https://wandb.ai/madeinalex/mnist-softmax-2/runs/3pji9p5d' target=\"_blank\">lr_0.01</a></strong> to <a href='https://wandb.ai/madeinalex/mnist-softmax-2' target=\"_blank\">Weights & Biases</a> (<a href='https://wandb.me/developer-guide' target=\"_blank\">docs</a>)<br>"
      ],
      "text/plain": [
       "<IPython.core.display.HTML object>"
      ]
     },
     "metadata": {},
     "output_type": "display_data"
    },
    {
     "data": {
      "text/html": [
       " View project at <a href='https://wandb.ai/madeinalex/mnist-softmax-2' target=\"_blank\">https://wandb.ai/madeinalex/mnist-softmax-2</a>"
      ],
      "text/plain": [
       "<IPython.core.display.HTML object>"
      ]
     },
     "metadata": {},
     "output_type": "display_data"
    },
    {
     "data": {
      "text/html": [
       " View run at <a href='https://wandb.ai/madeinalex/mnist-softmax-2/runs/3pji9p5d' target=\"_blank\">https://wandb.ai/madeinalex/mnist-softmax-2/runs/3pji9p5d</a>"
      ],
      "text/plain": [
       "<IPython.core.display.HTML object>"
      ]
     },
     "metadata": {},
     "output_type": "display_data"
    },
    {
     "data": {
      "text/html": [],
      "text/plain": [
       "<IPython.core.display.HTML object>"
      ]
     },
     "metadata": {},
     "output_type": "display_data"
    },
    {
     "data": {
      "text/html": [
       "<br>    <style><br>        .wandb-row {<br>            display: flex;<br>            flex-direction: row;<br>            flex-wrap: wrap;<br>            justify-content: flex-start;<br>            width: 100%;<br>        }<br>        .wandb-col {<br>            display: flex;<br>            flex-direction: column;<br>            flex-basis: 100%;<br>            flex: 1;<br>            padding: 10px;<br>        }<br>    </style><br><div class=\"wandb-row\"><div class=\"wandb-col\"><h3>Run history:</h3><br/><table class=\"wandb\"><tr><td>epoch</td><td>▁</td></tr><tr><td>learning_rate</td><td>▁</td></tr><tr><td>train_acc</td><td>▁</td></tr><tr><td>train_loss</td><td>▁</td></tr><tr><td>val_acc</td><td>▁</td></tr><tr><td>val_loss</td><td>▁</td></tr></table><br/></div><div class=\"wandb-col\"><h3>Run summary:</h3><br/><table class=\"wandb\"><tr><td>epoch</td><td>9</td></tr><tr><td>learning_rate</td><td>0.01</td></tr><tr><td>train_acc</td><td>92.18304</td></tr><tr><td>train_loss</td><td>0.27505</td></tr><tr><td>val_acc</td><td>91.81429</td></tr><tr><td>val_loss</td><td>0.2922</td></tr></table><br/></div></div>"
      ],
      "text/plain": [
       "<IPython.core.display.HTML object>"
      ]
     },
     "metadata": {},
     "output_type": "display_data"
    },
    {
     "data": {
      "text/html": [
       " View run <strong style=\"color:#cdcd00\">lr_0.01</strong> at: <a href='https://wandb.ai/madeinalex/mnist-softmax-2/runs/3pji9p5d' target=\"_blank\">https://wandb.ai/madeinalex/mnist-softmax-2/runs/3pji9p5d</a><br> View project at: <a href='https://wandb.ai/madeinalex/mnist-softmax-2' target=\"_blank\">https://wandb.ai/madeinalex/mnist-softmax-2</a><br>Synced 5 W&B file(s), 0 media file(s), 0 artifact file(s) and 31 other file(s)"
      ],
      "text/plain": [
       "<IPython.core.display.HTML object>"
      ]
     },
     "metadata": {},
     "output_type": "display_data"
    },
    {
     "data": {
      "text/html": [
       "Find logs at: <code>./wandb/run-20241228_233040-3pji9p5d/logs</code>"
      ],
      "text/plain": [
       "<IPython.core.display.HTML object>"
      ]
     },
     "metadata": {},
     "output_type": "display_data"
    },
    {
     "name": "stdout",
     "output_type": "stream",
     "text": [
      "Running experiment: lr_0.00001\n"
     ]
    },
    {
     "data": {
      "text/html": [
       "Tracking run with wandb version 0.19.1"
      ],
      "text/plain": [
       "<IPython.core.display.HTML object>"
      ]
     },
     "metadata": {},
     "output_type": "display_data"
    },
    {
     "data": {
      "text/html": [
       "Run data is saved locally in <code>/home/ahmedayman4a/programming/DeepLearning/mnist-pytorch/wandb/run-20241228_233127-wgu51avl</code>"
      ],
      "text/plain": [
       "<IPython.core.display.HTML object>"
      ]
     },
     "metadata": {},
     "output_type": "display_data"
    },
    {
     "data": {
      "text/html": [
       "Syncing run <strong><a href='https://wandb.ai/madeinalex/mnist-softmax-2/runs/wgu51avl' target=\"_blank\">lr_0.00001</a></strong> to <a href='https://wandb.ai/madeinalex/mnist-softmax-2' target=\"_blank\">Weights & Biases</a> (<a href='https://wandb.me/developer-guide' target=\"_blank\">docs</a>)<br>"
      ],
      "text/plain": [
       "<IPython.core.display.HTML object>"
      ]
     },
     "metadata": {},
     "output_type": "display_data"
    },
    {
     "data": {
      "text/html": [
       " View project at <a href='https://wandb.ai/madeinalex/mnist-softmax-2' target=\"_blank\">https://wandb.ai/madeinalex/mnist-softmax-2</a>"
      ],
      "text/plain": [
       "<IPython.core.display.HTML object>"
      ]
     },
     "metadata": {},
     "output_type": "display_data"
    },
    {
     "data": {
      "text/html": [
       " View run at <a href='https://wandb.ai/madeinalex/mnist-softmax-2/runs/wgu51avl' target=\"_blank\">https://wandb.ai/madeinalex/mnist-softmax-2/runs/wgu51avl</a>"
      ],
      "text/plain": [
       "<IPython.core.display.HTML object>"
      ]
     },
     "metadata": {},
     "output_type": "display_data"
    },
    {
     "data": {
      "text/html": [],
      "text/plain": [
       "<IPython.core.display.HTML object>"
      ]
     },
     "metadata": {},
     "output_type": "display_data"
    },
    {
     "data": {
      "text/html": [
       "<br>    <style><br>        .wandb-row {<br>            display: flex;<br>            flex-direction: row;<br>            flex-wrap: wrap;<br>            justify-content: flex-start;<br>            width: 100%;<br>        }<br>        .wandb-col {<br>            display: flex;<br>            flex-direction: column;<br>            flex-basis: 100%;<br>            flex: 1;<br>            padding: 10px;<br>        }<br>    </style><br><div class=\"wandb-row\"><div class=\"wandb-col\"><h3>Run history:</h3><br/><table class=\"wandb\"><tr><td>epoch</td><td>▁</td></tr><tr><td>learning_rate</td><td>▁</td></tr><tr><td>train_acc</td><td>▁</td></tr><tr><td>train_loss</td><td>▁</td></tr><tr><td>val_acc</td><td>▁</td></tr><tr><td>val_loss</td><td>▁</td></tr></table><br/></div><div class=\"wandb-col\"><h3>Run summary:</h3><br/><table class=\"wandb\"><tr><td>epoch</td><td>9</td></tr><tr><td>learning_rate</td><td>1e-05</td></tr><tr><td>train_acc</td><td>58.83705</td></tr><tr><td>train_loss</td><td>1.65743</td></tr><tr><td>val_acc</td><td>60.40714</td></tr><tr><td>val_loss</td><td>1.63609</td></tr></table><br/></div></div>"
      ],
      "text/plain": [
       "<IPython.core.display.HTML object>"
      ]
     },
     "metadata": {},
     "output_type": "display_data"
    },
    {
     "data": {
      "text/html": [
       " View run <strong style=\"color:#cdcd00\">lr_0.00001</strong> at: <a href='https://wandb.ai/madeinalex/mnist-softmax-2/runs/wgu51avl' target=\"_blank\">https://wandb.ai/madeinalex/mnist-softmax-2/runs/wgu51avl</a><br> View project at: <a href='https://wandb.ai/madeinalex/mnist-softmax-2' target=\"_blank\">https://wandb.ai/madeinalex/mnist-softmax-2</a><br>Synced 5 W&B file(s), 0 media file(s), 0 artifact file(s) and 34 other file(s)"
      ],
      "text/plain": [
       "<IPython.core.display.HTML object>"
      ]
     },
     "metadata": {},
     "output_type": "display_data"
    },
    {
     "data": {
      "text/html": [
       "Find logs at: <code>./wandb/run-20241228_233127-wgu51avl/logs</code>"
      ],
      "text/plain": [
       "<IPython.core.display.HTML object>"
      ]
     },
     "metadata": {},
     "output_type": "display_data"
    },
    {
     "name": "stdout",
     "output_type": "stream",
     "text": [
      "Running experiment: warmup_cosine\n"
     ]
    },
    {
     "data": {
      "text/html": [
       "Tracking run with wandb version 0.19.1"
      ],
      "text/plain": [
       "<IPython.core.display.HTML object>"
      ]
     },
     "metadata": {},
     "output_type": "display_data"
    },
    {
     "data": {
      "text/html": [
       "Run data is saved locally in <code>/home/ahmedayman4a/programming/DeepLearning/mnist-pytorch/wandb/run-20241228_233221-fekqpmx1</code>"
      ],
      "text/plain": [
       "<IPython.core.display.HTML object>"
      ]
     },
     "metadata": {},
     "output_type": "display_data"
    },
    {
     "data": {
      "text/html": [
       "Syncing run <strong><a href='https://wandb.ai/madeinalex/mnist-softmax-2/runs/fekqpmx1' target=\"_blank\">warmup_cosine</a></strong> to <a href='https://wandb.ai/madeinalex/mnist-softmax-2' target=\"_blank\">Weights & Biases</a> (<a href='https://wandb.me/developer-guide' target=\"_blank\">docs</a>)<br>"
      ],
      "text/plain": [
       "<IPython.core.display.HTML object>"
      ]
     },
     "metadata": {},
     "output_type": "display_data"
    },
    {
     "data": {
      "text/html": [
       " View project at <a href='https://wandb.ai/madeinalex/mnist-softmax-2' target=\"_blank\">https://wandb.ai/madeinalex/mnist-softmax-2</a>"
      ],
      "text/plain": [
       "<IPython.core.display.HTML object>"
      ]
     },
     "metadata": {},
     "output_type": "display_data"
    },
    {
     "data": {
      "text/html": [
       " View run at <a href='https://wandb.ai/madeinalex/mnist-softmax-2/runs/fekqpmx1' target=\"_blank\">https://wandb.ai/madeinalex/mnist-softmax-2/runs/fekqpmx1</a>"
      ],
      "text/plain": [
       "<IPython.core.display.HTML object>"
      ]
     },
     "metadata": {},
     "output_type": "display_data"
    },
    {
     "ename": "KeyboardInterrupt",
     "evalue": "",
     "output_type": "error",
     "traceback": [
      "\u001b[0;31m---------------------------------------------------------------------------\u001b[0m",
      "\u001b[0;31mKeyboardInterrupt\u001b[0m                         Traceback (most recent call last)",
      "Cell \u001b[0;32mIn[69], line 1\u001b[0m\n\u001b[0;32m----> 1\u001b[0m \u001b[43mrun_experiments\u001b[49m\u001b[43m(\u001b[49m\u001b[43m)\u001b[49m\n",
      "Cell \u001b[0;32mIn[68], line 25\u001b[0m, in \u001b[0;36mrun_experiments\u001b[0;34m()\u001b[0m\n\u001b[1;32m     22\u001b[0m trainer \u001b[38;5;241m=\u001b[39m TrainingManager(config)\n\u001b[1;32m     24\u001b[0m \u001b[38;5;66;03m# Train model\u001b[39;00m\n\u001b[0;32m---> 25\u001b[0m \u001b[43mtrainer\u001b[49m\u001b[38;5;241;43m.\u001b[39;49m\u001b[43mtrain\u001b[49m\u001b[43m(\u001b[49m\u001b[43mmodel\u001b[49m\u001b[43m,\u001b[49m\u001b[43m \u001b[49m\u001b[43mtrain_loader\u001b[49m\u001b[43m,\u001b[49m\u001b[43m \u001b[49m\u001b[43mval_loader\u001b[49m\u001b[43m)\u001b[49m\n",
      "Cell \u001b[0;32mIn[66], line 39\u001b[0m, in \u001b[0;36mTrainingManager.train\u001b[0;34m(self, model, train_loader, val_loader)\u001b[0m\n\u001b[1;32m     36\u001b[0m correct \u001b[38;5;241m=\u001b[39m \u001b[38;5;241m0\u001b[39m\n\u001b[1;32m     37\u001b[0m total \u001b[38;5;241m=\u001b[39m \u001b[38;5;241m0\u001b[39m\n\u001b[0;32m---> 39\u001b[0m \u001b[38;5;28;01mfor\u001b[39;00m batch_idx, (inputs, targets) \u001b[38;5;129;01min\u001b[39;00m \u001b[38;5;28menumerate\u001b[39m(train_loader):\n\u001b[1;32m     40\u001b[0m     inputs, targets \u001b[38;5;241m=\u001b[39m inputs\u001b[38;5;241m.\u001b[39mto(\u001b[38;5;28mself\u001b[39m\u001b[38;5;241m.\u001b[39mconfig\u001b[38;5;241m.\u001b[39mdevice), targets\u001b[38;5;241m.\u001b[39mto(\u001b[38;5;28mself\u001b[39m\u001b[38;5;241m.\u001b[39mconfig\u001b[38;5;241m.\u001b[39mdevice)\n\u001b[1;32m     42\u001b[0m     optimizer\u001b[38;5;241m.\u001b[39mzero_grad()\n",
      "File \u001b[0;32m~/.local/lib/python3.8/site-packages/torch/utils/data/dataloader.py:628\u001b[0m, in \u001b[0;36m_BaseDataLoaderIter.__next__\u001b[0;34m(self)\u001b[0m\n\u001b[1;32m    625\u001b[0m \u001b[38;5;28;01mif\u001b[39;00m \u001b[38;5;28mself\u001b[39m\u001b[38;5;241m.\u001b[39m_sampler_iter \u001b[38;5;129;01mis\u001b[39;00m \u001b[38;5;28;01mNone\u001b[39;00m:\n\u001b[1;32m    626\u001b[0m     \u001b[38;5;66;03m# TODO(https://github.com/pytorch/pytorch/issues/76750)\u001b[39;00m\n\u001b[1;32m    627\u001b[0m     \u001b[38;5;28mself\u001b[39m\u001b[38;5;241m.\u001b[39m_reset()  \u001b[38;5;66;03m# type: ignore[call-arg]\u001b[39;00m\n\u001b[0;32m--> 628\u001b[0m data \u001b[38;5;241m=\u001b[39m \u001b[38;5;28;43mself\u001b[39;49m\u001b[38;5;241;43m.\u001b[39;49m\u001b[43m_next_data\u001b[49m\u001b[43m(\u001b[49m\u001b[43m)\u001b[49m\n\u001b[1;32m    629\u001b[0m \u001b[38;5;28mself\u001b[39m\u001b[38;5;241m.\u001b[39m_num_yielded \u001b[38;5;241m+\u001b[39m\u001b[38;5;241m=\u001b[39m \u001b[38;5;241m1\u001b[39m\n\u001b[1;32m    630\u001b[0m \u001b[38;5;28;01mif\u001b[39;00m \u001b[38;5;28mself\u001b[39m\u001b[38;5;241m.\u001b[39m_dataset_kind \u001b[38;5;241m==\u001b[39m _DatasetKind\u001b[38;5;241m.\u001b[39mIterable \u001b[38;5;129;01mand\u001b[39;00m \\\n\u001b[1;32m    631\u001b[0m         \u001b[38;5;28mself\u001b[39m\u001b[38;5;241m.\u001b[39m_IterableDataset_len_called \u001b[38;5;129;01mis\u001b[39;00m \u001b[38;5;129;01mnot\u001b[39;00m \u001b[38;5;28;01mNone\u001b[39;00m \u001b[38;5;129;01mand\u001b[39;00m \\\n\u001b[1;32m    632\u001b[0m         \u001b[38;5;28mself\u001b[39m\u001b[38;5;241m.\u001b[39m_num_yielded \u001b[38;5;241m>\u001b[39m \u001b[38;5;28mself\u001b[39m\u001b[38;5;241m.\u001b[39m_IterableDataset_len_called:\n",
      "File \u001b[0;32m~/.local/lib/python3.8/site-packages/torch/utils/data/dataloader.py:1316\u001b[0m, in \u001b[0;36m_MultiProcessingDataLoaderIter._next_data\u001b[0;34m(self)\u001b[0m\n\u001b[1;32m   1313\u001b[0m     \u001b[38;5;28;01mreturn\u001b[39;00m \u001b[38;5;28mself\u001b[39m\u001b[38;5;241m.\u001b[39m_process_data(data)\n\u001b[1;32m   1315\u001b[0m \u001b[38;5;28;01massert\u001b[39;00m \u001b[38;5;129;01mnot\u001b[39;00m \u001b[38;5;28mself\u001b[39m\u001b[38;5;241m.\u001b[39m_shutdown \u001b[38;5;129;01mand\u001b[39;00m \u001b[38;5;28mself\u001b[39m\u001b[38;5;241m.\u001b[39m_tasks_outstanding \u001b[38;5;241m>\u001b[39m \u001b[38;5;241m0\u001b[39m\n\u001b[0;32m-> 1316\u001b[0m idx, data \u001b[38;5;241m=\u001b[39m \u001b[38;5;28;43mself\u001b[39;49m\u001b[38;5;241;43m.\u001b[39;49m\u001b[43m_get_data\u001b[49m\u001b[43m(\u001b[49m\u001b[43m)\u001b[49m\n\u001b[1;32m   1317\u001b[0m \u001b[38;5;28mself\u001b[39m\u001b[38;5;241m.\u001b[39m_tasks_outstanding \u001b[38;5;241m-\u001b[39m\u001b[38;5;241m=\u001b[39m \u001b[38;5;241m1\u001b[39m\n\u001b[1;32m   1318\u001b[0m \u001b[38;5;28;01mif\u001b[39;00m \u001b[38;5;28mself\u001b[39m\u001b[38;5;241m.\u001b[39m_dataset_kind \u001b[38;5;241m==\u001b[39m _DatasetKind\u001b[38;5;241m.\u001b[39mIterable:\n\u001b[1;32m   1319\u001b[0m     \u001b[38;5;66;03m# Check for _IterableDatasetStopIteration\u001b[39;00m\n",
      "File \u001b[0;32m~/.local/lib/python3.8/site-packages/torch/utils/data/dataloader.py:1282\u001b[0m, in \u001b[0;36m_MultiProcessingDataLoaderIter._get_data\u001b[0;34m(self)\u001b[0m\n\u001b[1;32m   1278\u001b[0m     \u001b[38;5;66;03m# In this case, `self._data_queue` is a `queue.Queue`,. But we don't\u001b[39;00m\n\u001b[1;32m   1279\u001b[0m     \u001b[38;5;66;03m# need to call `.task_done()` because we don't use `.join()`.\u001b[39;00m\n\u001b[1;32m   1280\u001b[0m \u001b[38;5;28;01melse\u001b[39;00m:\n\u001b[1;32m   1281\u001b[0m     \u001b[38;5;28;01mwhile\u001b[39;00m \u001b[38;5;28;01mTrue\u001b[39;00m:\n\u001b[0;32m-> 1282\u001b[0m         success, data \u001b[38;5;241m=\u001b[39m \u001b[38;5;28;43mself\u001b[39;49m\u001b[38;5;241;43m.\u001b[39;49m\u001b[43m_try_get_data\u001b[49m\u001b[43m(\u001b[49m\u001b[43m)\u001b[49m\n\u001b[1;32m   1283\u001b[0m         \u001b[38;5;28;01mif\u001b[39;00m success:\n\u001b[1;32m   1284\u001b[0m             \u001b[38;5;28;01mreturn\u001b[39;00m data\n",
      "File \u001b[0;32m~/.local/lib/python3.8/site-packages/torch/utils/data/dataloader.py:1120\u001b[0m, in \u001b[0;36m_MultiProcessingDataLoaderIter._try_get_data\u001b[0;34m(self, timeout)\u001b[0m\n\u001b[1;32m   1107\u001b[0m \u001b[38;5;28;01mdef\u001b[39;00m \u001b[38;5;21m_try_get_data\u001b[39m(\u001b[38;5;28mself\u001b[39m, timeout\u001b[38;5;241m=\u001b[39m_utils\u001b[38;5;241m.\u001b[39mMP_STATUS_CHECK_INTERVAL):\n\u001b[1;32m   1108\u001b[0m     \u001b[38;5;66;03m# Tries to fetch data from `self._data_queue` once for a given timeout.\u001b[39;00m\n\u001b[1;32m   1109\u001b[0m     \u001b[38;5;66;03m# This can also be used as inner loop of fetching without timeout, with\u001b[39;00m\n\u001b[0;32m   (...)\u001b[0m\n\u001b[1;32m   1117\u001b[0m     \u001b[38;5;66;03m# Returns a 2-tuple:\u001b[39;00m\n\u001b[1;32m   1118\u001b[0m     \u001b[38;5;66;03m#   (bool: whether successfully get data, any: data if successful else None)\u001b[39;00m\n\u001b[1;32m   1119\u001b[0m     \u001b[38;5;28;01mtry\u001b[39;00m:\n\u001b[0;32m-> 1120\u001b[0m         data \u001b[38;5;241m=\u001b[39m \u001b[38;5;28;43mself\u001b[39;49m\u001b[38;5;241;43m.\u001b[39;49m\u001b[43m_data_queue\u001b[49m\u001b[38;5;241;43m.\u001b[39;49m\u001b[43mget\u001b[49m\u001b[43m(\u001b[49m\u001b[43mtimeout\u001b[49m\u001b[38;5;241;43m=\u001b[39;49m\u001b[43mtimeout\u001b[49m\u001b[43m)\u001b[49m\n\u001b[1;32m   1121\u001b[0m         \u001b[38;5;28;01mreturn\u001b[39;00m (\u001b[38;5;28;01mTrue\u001b[39;00m, data)\n\u001b[1;32m   1122\u001b[0m     \u001b[38;5;28;01mexcept\u001b[39;00m \u001b[38;5;167;01mException\u001b[39;00m \u001b[38;5;28;01mas\u001b[39;00m e:\n\u001b[1;32m   1123\u001b[0m         \u001b[38;5;66;03m# At timeout and error, we manually check whether any worker has\u001b[39;00m\n\u001b[1;32m   1124\u001b[0m         \u001b[38;5;66;03m# failed. Note that this is the only mechanism for Windows to detect\u001b[39;00m\n\u001b[1;32m   1125\u001b[0m         \u001b[38;5;66;03m# worker failures.\u001b[39;00m\n",
      "File \u001b[0;32m/usr/lib/python3.8/multiprocessing/queues.py:116\u001b[0m, in \u001b[0;36mQueue.get\u001b[0;34m(self, block, timeout)\u001b[0m\n\u001b[1;32m    114\u001b[0m         \u001b[38;5;28mself\u001b[39m\u001b[38;5;241m.\u001b[39m_rlock\u001b[38;5;241m.\u001b[39mrelease()\n\u001b[1;32m    115\u001b[0m \u001b[38;5;66;03m# unserialize the data after having released the lock\u001b[39;00m\n\u001b[0;32m--> 116\u001b[0m \u001b[38;5;28;01mreturn\u001b[39;00m \u001b[43m_ForkingPickler\u001b[49m\u001b[38;5;241;43m.\u001b[39;49m\u001b[43mloads\u001b[49m\u001b[43m(\u001b[49m\u001b[43mres\u001b[49m\u001b[43m)\u001b[49m\n",
      "File \u001b[0;32m~/.local/lib/python3.8/site-packages/torch/multiprocessing/reductions.py:305\u001b[0m, in \u001b[0;36mrebuild_storage_fd\u001b[0;34m(cls, df, size)\u001b[0m\n\u001b[1;32m    304\u001b[0m \u001b[38;5;28;01mdef\u001b[39;00m \u001b[38;5;21mrebuild_storage_fd\u001b[39m(\u001b[38;5;28mcls\u001b[39m, df, size):\n\u001b[0;32m--> 305\u001b[0m     fd \u001b[38;5;241m=\u001b[39m \u001b[43mdf\u001b[49m\u001b[38;5;241;43m.\u001b[39;49m\u001b[43mdetach\u001b[49m\u001b[43m(\u001b[49m\u001b[43m)\u001b[49m\n\u001b[1;32m    306\u001b[0m     \u001b[38;5;28;01mtry\u001b[39;00m:\n\u001b[1;32m    307\u001b[0m         storage \u001b[38;5;241m=\u001b[39m storage_from_cache(\u001b[38;5;28mcls\u001b[39m, fd_id(fd))\n",
      "File \u001b[0;32m/usr/lib/python3.8/multiprocessing/resource_sharer.py:57\u001b[0m, in \u001b[0;36mDupFd.detach\u001b[0;34m(self)\u001b[0m\n\u001b[1;32m     55\u001b[0m \u001b[38;5;28;01mdef\u001b[39;00m \u001b[38;5;21mdetach\u001b[39m(\u001b[38;5;28mself\u001b[39m):\n\u001b[1;32m     56\u001b[0m     \u001b[38;5;124;03m'''Get the fd.  This should only be called once.'''\u001b[39;00m\n\u001b[0;32m---> 57\u001b[0m     \u001b[38;5;28;01mwith\u001b[39;00m \u001b[43m_resource_sharer\u001b[49m\u001b[38;5;241;43m.\u001b[39;49m\u001b[43mget_connection\u001b[49m\u001b[43m(\u001b[49m\u001b[38;5;28;43mself\u001b[39;49m\u001b[38;5;241;43m.\u001b[39;49m\u001b[43m_id\u001b[49m\u001b[43m)\u001b[49m \u001b[38;5;28;01mas\u001b[39;00m conn:\n\u001b[1;32m     58\u001b[0m         \u001b[38;5;28;01mreturn\u001b[39;00m reduction\u001b[38;5;241m.\u001b[39mrecv_handle(conn)\n",
      "File \u001b[0;32m/usr/lib/python3.8/multiprocessing/resource_sharer.py:87\u001b[0m, in \u001b[0;36m_ResourceSharer.get_connection\u001b[0;34m(ident)\u001b[0m\n\u001b[1;32m     85\u001b[0m \u001b[38;5;28;01mfrom\u001b[39;00m \u001b[38;5;21;01m.\u001b[39;00m\u001b[38;5;21;01mconnection\u001b[39;00m \u001b[38;5;28;01mimport\u001b[39;00m Client\n\u001b[1;32m     86\u001b[0m address, key \u001b[38;5;241m=\u001b[39m ident\n\u001b[0;32m---> 87\u001b[0m c \u001b[38;5;241m=\u001b[39m \u001b[43mClient\u001b[49m\u001b[43m(\u001b[49m\u001b[43maddress\u001b[49m\u001b[43m,\u001b[49m\u001b[43m \u001b[49m\u001b[43mauthkey\u001b[49m\u001b[38;5;241;43m=\u001b[39;49m\u001b[43mprocess\u001b[49m\u001b[38;5;241;43m.\u001b[39;49m\u001b[43mcurrent_process\u001b[49m\u001b[43m(\u001b[49m\u001b[43m)\u001b[49m\u001b[38;5;241;43m.\u001b[39;49m\u001b[43mauthkey\u001b[49m\u001b[43m)\u001b[49m\n\u001b[1;32m     88\u001b[0m c\u001b[38;5;241m.\u001b[39msend((key, os\u001b[38;5;241m.\u001b[39mgetpid()))\n\u001b[1;32m     89\u001b[0m \u001b[38;5;28;01mreturn\u001b[39;00m c\n",
      "File \u001b[0;32m/usr/lib/python3.8/multiprocessing/connection.py:502\u001b[0m, in \u001b[0;36mClient\u001b[0;34m(address, family, authkey)\u001b[0m\n\u001b[1;32m    500\u001b[0m     c \u001b[38;5;241m=\u001b[39m PipeClient(address)\n\u001b[1;32m    501\u001b[0m \u001b[38;5;28;01melse\u001b[39;00m:\n\u001b[0;32m--> 502\u001b[0m     c \u001b[38;5;241m=\u001b[39m \u001b[43mSocketClient\u001b[49m\u001b[43m(\u001b[49m\u001b[43maddress\u001b[49m\u001b[43m)\u001b[49m\n\u001b[1;32m    504\u001b[0m \u001b[38;5;28;01mif\u001b[39;00m authkey \u001b[38;5;129;01mis\u001b[39;00m \u001b[38;5;129;01mnot\u001b[39;00m \u001b[38;5;28;01mNone\u001b[39;00m \u001b[38;5;129;01mand\u001b[39;00m \u001b[38;5;129;01mnot\u001b[39;00m \u001b[38;5;28misinstance\u001b[39m(authkey, \u001b[38;5;28mbytes\u001b[39m):\n\u001b[1;32m    505\u001b[0m     \u001b[38;5;28;01mraise\u001b[39;00m \u001b[38;5;167;01mTypeError\u001b[39;00m(\u001b[38;5;124m'\u001b[39m\u001b[38;5;124mauthkey should be a byte string\u001b[39m\u001b[38;5;124m'\u001b[39m)\n",
      "File \u001b[0;32m/usr/lib/python3.8/multiprocessing/connection.py:628\u001b[0m, in \u001b[0;36mSocketClient\u001b[0;34m(address)\u001b[0m\n\u001b[1;32m    624\u001b[0m \u001b[38;5;124;03m'''\u001b[39;00m\n\u001b[1;32m    625\u001b[0m \u001b[38;5;124;03mReturn a connection object connected to the socket given by `address`\u001b[39;00m\n\u001b[1;32m    626\u001b[0m \u001b[38;5;124;03m'''\u001b[39;00m\n\u001b[1;32m    627\u001b[0m family \u001b[38;5;241m=\u001b[39m address_type(address)\n\u001b[0;32m--> 628\u001b[0m \u001b[38;5;28;01mwith\u001b[39;00m \u001b[43msocket\u001b[49m\u001b[38;5;241;43m.\u001b[39;49m\u001b[43msocket\u001b[49m( \u001b[38;5;28mgetattr\u001b[39m(socket, family) ) \u001b[38;5;28;01mas\u001b[39;00m s:\n\u001b[1;32m    629\u001b[0m     s\u001b[38;5;241m.\u001b[39msetblocking(\u001b[38;5;28;01mTrue\u001b[39;00m)\n\u001b[1;32m    630\u001b[0m     s\u001b[38;5;241m.\u001b[39mconnect(address)\n",
      "\u001b[0;31mKeyboardInterrupt\u001b[0m: "
     ]
    }
   ],
   "source": [
    "run_experiments()"
   ]
  },
  {
   "cell_type": "code",
   "execution_count": null,
   "metadata": {},
   "outputs": [],
   "source": []
  }
 ],
 "metadata": {
  "kernelspec": {
   "display_name": "Python 3",
   "language": "python",
   "name": "python3"
  },
  "language_info": {
   "codemirror_mode": {
    "name": "ipython",
    "version": 3
   },
   "file_extension": ".py",
   "mimetype": "text/x-python",
   "name": "python",
   "nbconvert_exporter": "python",
   "pygments_lexer": "ipython3",
   "version": "3.8.10"
  }
 },
 "nbformat": 4,
 "nbformat_minor": 2
}
